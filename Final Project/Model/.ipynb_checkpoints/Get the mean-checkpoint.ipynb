{
 "cells": [
  {
   "cell_type": "code",
   "execution_count": 3,
   "id": "4ac46d9c",
   "metadata": {},
   "outputs": [],
   "source": [
    "import numpy as np\n",
    "import pandas as pd\n",
    "import math\n",
    "import re\n",
    "import datetime\n",
    "import requests\n",
    "import warnings\n",
    "import getpass\n",
    "import missingno as msno\n",
    "import seaborn as sns\n",
    "import matplotlib.pyplot as plt\n",
    "import plotly\n",
    "import plotly.graph_objects as go\n",
    "import plotly.express as px\n",
    "from sklearn.pipeline import Pipeline\n",
    "from sqlalchemy import create_engine\n",
    "from sklearn.model_selection import train_test_split\n",
    "from sklearn.linear_model import LogisticRegression\n",
    "from sklearn.metrics import confusion_matrix\n",
    "from sklearn.cluster import KMeans\n",
    "from sklearn.preprocessing import StandardScaler\n",
    "from sklearn.metrics import pairwise_distances_argmin_min\n",
    "pd.options.mode.chained_assignment = None  # default='warn'\n",
    "pd.set_option('display.max_columns', None)"
   ]
  },
  {
   "cell_type": "code",
   "execution_count": 4,
   "id": "92853b7c",
   "metadata": {},
   "outputs": [
    {
     "data": {
      "text/html": [
       "<div>\n",
       "<style scoped>\n",
       "    .dataframe tbody tr th:only-of-type {\n",
       "        vertical-align: middle;\n",
       "    }\n",
       "\n",
       "    .dataframe tbody tr th {\n",
       "        vertical-align: top;\n",
       "    }\n",
       "\n",
       "    .dataframe thead th {\n",
       "        text-align: right;\n",
       "    }\n",
       "</style>\n",
       "<table border=\"1\" class=\"dataframe\">\n",
       "  <thead>\n",
       "    <tr style=\"text-align: right;\">\n",
       "      <th></th>\n",
       "      <th>restaurant_link</th>\n",
       "      <th>restaurant_name</th>\n",
       "      <th>country</th>\n",
       "      <th>region</th>\n",
       "      <th>province</th>\n",
       "      <th>city</th>\n",
       "      <th>latitude</th>\n",
       "      <th>longitude</th>\n",
       "      <th>popularity_generic</th>\n",
       "      <th>top_tags</th>\n",
       "      <th>price_level</th>\n",
       "      <th>cuisines</th>\n",
       "      <th>vegetarian_friendly</th>\n",
       "      <th>vegan_options</th>\n",
       "      <th>gluten_free</th>\n",
       "      <th>avg_rating</th>\n",
       "      <th>total_reviews_count</th>\n",
       "      <th>default_language</th>\n",
       "      <th>excellent</th>\n",
       "      <th>very_good</th>\n",
       "      <th>average</th>\n",
       "      <th>poor</th>\n",
       "      <th>terrible</th>\n",
       "      <th>food</th>\n",
       "      <th>service</th>\n",
       "      <th>value</th>\n",
       "    </tr>\n",
       "  </thead>\n",
       "  <tbody>\n",
       "    <tr>\n",
       "      <th>0</th>\n",
       "      <td>g10001637-d10002227</td>\n",
       "      <td>Le 147</td>\n",
       "      <td>France</td>\n",
       "      <td>Nouvelle-Aquitaine</td>\n",
       "      <td>Haute-Vienne</td>\n",
       "      <td>Saint-Jouvent</td>\n",
       "      <td>45.961674</td>\n",
       "      <td>1.169131</td>\n",
       "      <td>#1 of 2 places to eat in Saint-Jouvent</td>\n",
       "      <td>Cheap Eats</td>\n",
       "      <td>0-20</td>\n",
       "      <td>French</td>\n",
       "      <td>N</td>\n",
       "      <td>N</td>\n",
       "      <td>N</td>\n",
       "      <td>4.0</td>\n",
       "      <td>36.0</td>\n",
       "      <td>English</td>\n",
       "      <td>2.0</td>\n",
       "      <td>0.0</td>\n",
       "      <td>0.0</td>\n",
       "      <td>0.0</td>\n",
       "      <td>0.0</td>\n",
       "      <td>4.0</td>\n",
       "      <td>4.5</td>\n",
       "      <td>4.0</td>\n",
       "    </tr>\n",
       "  </tbody>\n",
       "</table>\n",
       "</div>"
      ],
      "text/plain": [
       "       restaurant_link restaurant_name country              region  \\\n",
       "0  g10001637-d10002227          Le 147  France  Nouvelle-Aquitaine   \n",
       "\n",
       "       province           city   latitude  longitude  \\\n",
       "0  Haute-Vienne  Saint-Jouvent  45.961674   1.169131   \n",
       "\n",
       "                       popularity_generic    top_tags price_level cuisines  \\\n",
       "0  #1 of 2 places to eat in Saint-Jouvent  Cheap Eats        0-20   French   \n",
       "\n",
       "  vegetarian_friendly vegan_options gluten_free  avg_rating  \\\n",
       "0                   N             N           N         4.0   \n",
       "\n",
       "   total_reviews_count default_language  excellent  very_good  average  poor  \\\n",
       "0                 36.0          English        2.0        0.0      0.0   0.0   \n",
       "\n",
       "   terrible  food  service  value  \n",
       "0       0.0   4.0      4.5    4.0  "
      ]
     },
     "execution_count": 4,
     "metadata": {},
     "output_type": "execute_result"
    }
   ],
   "source": [
    "features = pd.read_csv('dashboard_rest_db.csv')\n",
    "features.head(1)"
   ]
  },
  {
   "cell_type": "code",
   "execution_count": 5,
   "id": "1b993d3b",
   "metadata": {},
   "outputs": [
    {
     "data": {
      "text/plain": [
       "restaurant_link             0\n",
       "restaurant_name             0\n",
       "country                     0\n",
       "city                   400685\n",
       "popularity_generic      97792\n",
       "price_level                 0\n",
       "avg_rating              96636\n",
       "total_reviews_count     52235\n",
       "excellent               95193\n",
       "very_good               95193\n",
       "average                 95193\n",
       "poor                    95193\n",
       "terrible                95193\n",
       "dtype: int64"
      ]
     },
     "execution_count": 5,
     "metadata": {},
     "output_type": "execute_result"
    }
   ],
   "source": [
    "features = features.drop(['region',\n",
    "                          'province','latitude', 'longitude', 'top_tags', 'cuisines', \n",
    "                         'vegetarian_friendly', 'vegan_options', 'gluten_free', 'default_language', 'food', 'service', 'value' ], axis=1)\n",
    "features.isna().sum()"
   ]
  },
  {
   "cell_type": "code",
   "execution_count": 9,
   "id": "1a9acb82",
   "metadata": {},
   "outputs": [
    {
     "data": {
      "text/plain": [
       "restaurant_link        0\n",
       "restaurant_name        0\n",
       "country                0\n",
       "city                   0\n",
       "popularity_generic     0\n",
       "price_level            0\n",
       "avg_rating             0\n",
       "total_reviews_count    0\n",
       "excellent              0\n",
       "very_good              0\n",
       "average                0\n",
       "poor                   0\n",
       "terrible               0\n",
       "dtype: int64"
      ]
     },
     "execution_count": 9,
     "metadata": {},
     "output_type": "execute_result"
    }
   ],
   "source": [
    "features['city'] = features['city'].fillna('Not Specified')\n",
    "features['popularity_generic'] = features['popularity_generic'].fillna(0)\n",
    "features['avg_rating'] = features['avg_rating'].fillna(features['avg_rating'].mean())\n",
    "features['total_reviews_count'] = features['total_reviews_count'].fillna(features['total_reviews_count'].mean())\n",
    "features['excellent'] = features['excellent'].fillna(features['excellent'].mean())\n",
    "features['very_good'] = features['very_good'].fillna(features['very_good'].mean())\n",
    "features['average'] = features['average'].fillna(features['average'].mean())\n",
    "features['poor'] = features['poor'].fillna(features['poor'].mean())\n",
    "features['terrible'] = features['terrible'].fillna(features['terrible'].mean())\n",
    "features.isna().sum()"
   ]
  },
  {
   "cell_type": "code",
   "execution_count": 10,
   "id": "b25c4560",
   "metadata": {},
   "outputs": [],
   "source": [
    "features.to_csv('features.csv', index=False)"
   ]
  },
  {
   "cell_type": "code",
   "execution_count": null,
   "id": "cbe96c26",
   "metadata": {},
   "outputs": [],
   "source": []
  }
 ],
 "metadata": {
  "kernelspec": {
   "display_name": "Python 3 (ipykernel)",
   "language": "python",
   "name": "python3"
  },
  "language_info": {
   "codemirror_mode": {
    "name": "ipython",
    "version": 3
   },
   "file_extension": ".py",
   "mimetype": "text/x-python",
   "name": "python",
   "nbconvert_exporter": "python",
   "pygments_lexer": "ipython3",
   "version": "3.9.7"
  }
 },
 "nbformat": 4,
 "nbformat_minor": 5
}
